{
 "cells": [
  {
   "cell_type": "code",
   "execution_count": 86,
   "id": "5493682b",
   "metadata": {},
   "outputs": [],
   "source": [
    "import matplotlib.pyplot as plt\n",
    "from modules.image_to_nodes import ImageToNodes, Node"
   ]
  },
  {
   "cell_type": "code",
   "execution_count": 87,
   "id": "9aa04cac",
   "metadata": {},
   "outputs": [],
   "source": [
    "map_name = \"./b3898d0e-ea1c-434b-b9b5-f354cead4217.jpg\""
   ]
  },
  {
   "cell_type": "code",
   "execution_count": 88,
   "id": "f7ca124c",
   "metadata": {},
   "outputs": [],
   "source": [
    "genNodes = ImageToNodes( map_name )\n",
    "num_nodes, nodes, raw_pos = genNodes.generate_nodes()"
   ]
  },
  {
   "cell_type": "code",
   "execution_count": 89,
   "id": "6923e050",
   "metadata": {},
   "outputs": [
    {
     "data": {
      "text/plain": [
       "37"
      ]
     },
     "execution_count": 89,
     "metadata": {},
     "output_type": "execute_result"
    }
   ],
   "source": [
    "num_nodes"
   ]
  },
  {
   "cell_type": "code",
   "execution_count": 90,
   "id": "4a8b1279",
   "metadata": {},
   "outputs": [
    {
     "data": {
      "text/plain": [
       "[[742, 182],\n",
       " [1502, 1002],\n",
       " [550, 700],\n",
       " [1128, 608],\n",
       " [1326, 506],\n",
       " [1326, 108],\n",
       " [546, 100],\n",
       " [1128, 210],\n",
       " [744, 980],\n",
       " [1500, 204],\n",
       " [1130, 404],\n",
       " [744, 376],\n",
       " [348, 204],\n",
       " [548, 296],\n",
       " [942, 878],\n",
       " [1128, 1008],\n",
       " [1328, 906],\n",
       " [940, 80],\n",
       " [348, 398],\n",
       " [1502, 398],\n",
       " [1328, 302],\n",
       " [1502, 602],\n",
       " [942, 274],\n",
       " [742, 580],\n",
       " [348, 600],\n",
       " [940, 478],\n",
       " [546, 498],\n",
       " [548, 898],\n",
       " [352, 802],\n",
       " [348, 1002],\n",
       " [102, 554],\n",
       " [1332, 708],\n",
       " [1828, 554],\n",
       " [946, 680],\n",
       " [1132, 808],\n",
       " [746, 782],\n",
       " [1506, 804]]"
      ]
     },
     "execution_count": 90,
     "metadata": {},
     "output_type": "execute_result"
    }
   ],
   "source": [
    "#nodes\n",
    "raw_pos"
   ]
  },
  {
   "cell_type": "code",
   "execution_count": 91,
   "id": "b9f6f4ba",
   "metadata": {},
   "outputs": [],
   "source": [
    "start_node = nodes[0]\n",
    "goal_node  = nodes[36]"
   ]
  },
  {
   "cell_type": "code",
   "execution_count": 92,
   "id": "26f0643b",
   "metadata": {},
   "outputs": [
    {
     "data": {
      "text/plain": [
       "2073600"
      ]
     },
     "execution_count": 92,
     "metadata": {},
     "output_type": "execute_result"
    }
   ],
   "source": [
    "map_size  = ( 1920, 1080 )\n",
    "resolution= 40\n",
    "total_node_pixels = map_size[0] * map_size[1] # 1px based scaling\n",
    "total_node_pixels"
   ]
  },
  {
   "cell_type": "code",
   "execution_count": 93,
   "id": "8db0b26e",
   "metadata": {},
   "outputs": [],
   "source": [
    "def within_range( prev_pos, curr_pos, obj_pos ):\n",
    "    return prev_pos[0] < obj_pos[0] < curr_pos[0] and prev_pos[1] < obj_pos[1] < curr_pos[1]"
   ]
  },
  {
   "cell_type": "code",
   "execution_count": 96,
   "id": "80cf50f5",
   "metadata": {},
   "outputs": [
    {
     "data": {
      "image/png": "[encoded data removed]",
      "text/plain": [
       "<Figure size 1440x1440 with 1 Axes>"
      ]
     },
     "metadata": {
      "needs_background": "light"
     },
     "output_type": "display_data"
    }
   ],
   "source": [
    "fig, ax = plt.subplots( figsize=(20, 20) )\n",
    "ax.set_aspect(\"equal\")\n",
    "# generate nodes and mark start, goal and obstacles\n",
    "# generating nodes\n",
    "prev_pos = [0, 0]\n",
    "# for xi in range( 0, resolution[0], 40 ):\n",
    "#     for yi in range(0, resolution[1], 40 ):\n",
    "#         pos = [ xi, yi ]\n",
    "#         if pos in raw_pos or within_range( prev_pos, curr_pos, obj_pos ): \n",
    "#             #print(\"in list\", pos)\n",
    "#             plt.plot( xi, yi, color=\"k\", marker=\"p\" )\n",
    "#         else:\n",
    "#             # set explore space\n",
    "#             plt.plot( xi, yi, color=\"b\", marker=\"p\" ) \n",
    "#         pre_pos = pos\n",
    "\n",
    "node_arr = []\n",
    "for xi in range( 0, map_size[0], resolution ):\n",
    "    for yi in range(0, map_size[1], resolution ):\n",
    "        nodeObj = Node( xi, yi, 10 )\n",
    "        node_arr.append( nodeObj )\n",
    "\n",
    "# mark nav points\n",
    "for obj in node_arr:\n",
    "    plt.plot( obj.x, obj.y, color=\"b\", marker=\"s\" ) \n",
    "        \n",
    "# mark obstacles\n",
    "        \n",
    "plt.show()"
   ]
  },
  {
   "cell_type": "code",
   "execution_count": 95,
   "id": "a3c49271",
   "metadata": {},
   "outputs": [
    {
     "name": "stdout",
     "output_type": "stream",
     "text": [
      "do\n"
     ]
    }
   ],
   "source": [
    "# open nodes to explore\n",
    "open_list = []\n",
    "\n",
    "# finished nodejs : visited\n",
    "visited_list = set()\n",
    "\n",
    "open_list.append( start_node )\n",
    "\n",
    "while len(open_list) > 0:\n",
    "    print(\"do\")\n",
    "    break\n",
    "    \n",
    "    "
   ]
  },
  {
   "cell_type": "code",
   "execution_count": null,
   "id": "25f509b9",
   "metadata": {},
   "outputs": [],
   "source": []
  }
 ],
 "metadata": {
  "kernelspec": {
   "display_name": "Python 3.9.7 64-bit ('navigator': conda)",
   "language": "python",
   "name": "python397jvsc74a57bd08629ea90d8fb2394befd6e20135362c78aee6e6747565b82e5ea373eaa0db5e4"
  },
  "language_info": {
   "codemirror_mode": {
    "name": "ipython",
    "version": 3
   },
   "file_extension": ".py",
   "mimetype": "text/x-python",
   "name": "python",
   "nbconvert_exporter": "python",
   "pygments_lexer": "ipython3",
   "version": "3.9.7"
  }
 },
 "nbformat": 4,
 "nbformat_minor": 5
}
