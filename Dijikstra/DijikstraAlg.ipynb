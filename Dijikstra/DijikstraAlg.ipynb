{
 "cells": [
  {
   "cell_type": "code",
   "execution_count": 52,
   "id": "0bbac8f7",
   "metadata": {},
   "outputs": [],
   "source": [
    "%matplotlib notebook\n",
    "import numpy as np\n",
    "import matplotlib.pyplot as plt\n",
    "from matplotlib.animation import FuncAnimation"
   ]
  },
  {
   "cell_type": "code",
   "execution_count": null,
   "id": "41a30239",
   "metadata": {},
   "outputs": [],
   "source": [
    "class Obstacle():\n",
    "    def __init__(self, x, y):\n",
    "        self.x = x\n",
    "        self.y = y\n",
    "        self.repulsion = 0\n",
    "\n",
    "    def set_repulsion(self, repulsion):\n",
    "        self.repulsion = repulsion"
   ]
  },
  {
   "cell_type": "code",
   "execution_count": 53,
   "id": "c77c79f6",
   "metadata": {},
   "outputs": [],
   "source": [
    "class Exploration():\n",
    "    def __init__(self, x, y):\n",
    "        self.x = x \n",
    "        self.y = y\n",
    "        self.cost = 0\n",
    "        self.parent_node = None\n",
    "\n",
    "    def set_score(self, score):\n",
    "        self.score = score\n",
    "\n",
    "    def set_parent_node( self, parent ):\n",
    "        self.parent_node = parent"
   ]
  },
  {
   "cell_type": "code",
   "execution_count": 54,
   "id": "2b08af05",
   "metadata": {},
   "outputs": [],
   "source": [
    "\n",
    "class Algorithm():\n",
    "    def __init__(self, start_pos, goal_pos, map_size):\n",
    "        self.__name__ = \"DijikstraAlg\"\n",
    "        self.start_pos= start_pos\n",
    "        self.goal_pos = goal_pos\n",
    "        self.map_size = map_size\n",
    "\n",
    "        self.obstacles = []\n",
    "\n",
    "    def set_obstacles(self, obstacles=[]):\n",
    "        self.obstacles = obstacles\n",
    "\n",
    "    def render_obstacles(self):\n",
    "        pass"
   ]
  },
  {
   "cell_type": "code",
   "execution_count": 55,
   "id": "137908fa",
   "metadata": {},
   "outputs": [],
   "source": [
    "algo = Algorithm( ( 0, 0 ), ( 35, 40 ) )"
   ]
  },
  {
   "cell_type": "code",
   "execution_count": 56,
   "id": "41f9ae0c",
   "metadata": {},
   "outputs": [],
   "source": [
    "# import matplotlib.animation\n",
    "# import matplotlib.pyplot as plt\n",
    "# import numpy as np\n",
    "# plt.rcParams[\"animation.html\"] = \"jshtml\"\n",
    "# plt.rcParams['figure.dpi'] = 150  \n",
    "# plt.ioff()\n",
    "# fig, ax = plt.subplots()\n",
    "\n",
    "# x= np.linspace(0,10,100)\n",
    "# def animate(t):\n",
    "#     plt.cla()\n",
    "#     plt.plot(x-t,x)\n",
    "#     plt.xlim(0,10)\n",
    "\n",
    "# FuncAnimation(fig, animate, frames=10)"
   ]
  },
  {
   "cell_type": "code",
   "execution_count": null,
   "id": "affd4633",
   "metadata": {},
   "outputs": [],
   "source": []
  }
 ],
 "metadata": {
  "interpreter": {
   "hash": "8629ea90d8fb2394befd6e20135362c78aee6e6747565b82e5ea373eaa0db5e4"
  },
  "kernelspec": {
   "display_name": "Python 3.9.7 64-bit ('navigator': conda)",
   "language": "python",
   "name": "python3"
  },
  "language_info": {
   "codemirror_mode": {
    "name": "ipython",
    "version": 3
   },
   "file_extension": ".py",
   "mimetype": "text/x-python",
   "name": "python",
   "nbconvert_exporter": "python",
   "pygments_lexer": "ipython3",
   "version": "3.9.7"
  }
 },
 "nbformat": 4,
 "nbformat_minor": 5
}
