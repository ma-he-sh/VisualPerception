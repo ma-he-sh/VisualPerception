{
 "cells": [
  {
   "cell_type": "code",
   "execution_count": 1,
   "id": "3db27ee0",
   "metadata": {},
   "outputs": [],
   "source": [
    "%matplotlib inline\n",
    "\n",
    "import numpy as np\n",
    "import matplotlib.pyplot as plt\n",
    "import seaborn as sns"
   ]
  },
  {
   "cell_type": "code",
   "execution_count": 2,
   "id": "ce4fcd97",
   "metadata": {},
   "outputs": [],
   "source": [
    "from collections import deque\n",
    "import numpy as np\n",
    "import matplotlib.pyplot as plt"
   ]
  },
  {
   "cell_type": "code",
   "execution_count": 3,
   "id": "f4aff665",
   "metadata": {},
   "outputs": [],
   "source": [
    "show_animation = True"
   ]
  },
  {
   "cell_type": "code",
   "execution_count": 4,
   "id": "5f4c97f8",
   "metadata": {},
   "outputs": [],
   "source": [
    "# Define global variables\n",
    "KP = 5.0 # attractive potential gain\n",
    "RP = 100.0 # repulsive potential gain\n",
    "AREA_WIDTH = 30.0 # potential area width\n",
    "OSCILLATIONS_DETECTION_LENGTH = 3 # previous oscillation"
   ]
  },
  {
   "cell_type": "code",
   "execution_count": 5,
   "id": "10b5a8a4",
   "metadata": {},
   "outputs": [],
   "source": [
    "def calc_potential_field(gx, gy, ox, oy, reso, rr, sx, sy):\n",
    "    minx = min(min(ox), sx, gx) - AREA_WIDTH / 2.0\n",
    "    miny = min(min(oy), sy, gy) - AREA_WIDTH / 2.0\n",
    "    maxx = max(max(ox), sx, gx) + AREA_WIDTH / 2.0\n",
    "    maxy = max(max(oy), sy, gy) + AREA_WIDTH / 2.0\n",
    "    xw = int(round((maxx - minx) / reso))\n",
    "    yw = int(round((maxy - miny) / reso))\n",
    "\n",
    "    # calc each potential\n",
    "    pmap = [[0.0 for i in range(yw)] for i in range(xw)]\n",
    "\n",
    "    for ix in range(xw):\n",
    "        x = ix * reso + minx\n",
    "\n",
    "        for iy in range(yw):\n",
    "            y = iy * reso + miny\n",
    "            ug = calc_attractive_potential(x, y, gx, gy)\n",
    "            uo = calc_repulsive_potential(x, y, ox, oy, rr)\n",
    "            uf = ug + uo\n",
    "            pmap[ix][iy] = uf\n",
    "\n",
    "    return pmap, minx, miny"
   ]
  },
  {
   "cell_type": "code",
   "execution_count": 6,
   "id": "a82a518a",
   "metadata": {},
   "outputs": [],
   "source": [
    "def calc_attractive_potential(x, y, gx, gy):\n",
    "    return 0.5 * KP * np.hypot(x - gx, y - gy)"
   ]
  },
  {
   "cell_type": "code",
   "execution_count": 7,
   "id": "008eb88c",
   "metadata": {},
   "outputs": [],
   "source": [
    "def calc_repulsive_potential(x, y, ox, oy, rr):\n",
    "    # search nearest obstacle\n",
    "    minid = -1\n",
    "    dmin = float(\"inf\")\n",
    "    for i, _ in enumerate(ox):\n",
    "        d = np.hypot(x - ox[i], y - oy[i])\n",
    "        if dmin >= d:\n",
    "            dmin = d\n",
    "            minid = i\n",
    "\n",
    "    # calc repulsive potential\n",
    "    dq = np.hypot(x - ox[minid], y - oy[minid])\n",
    "\n",
    "    if dq <= rr:\n",
    "        if dq <= 0.1:\n",
    "            dq = 0.1\n",
    "\n",
    "        return 0.5 * RP * (1.0 / dq - 1.0 / rr) ** 2\n",
    "    else:\n",
    "        return 0.0"
   ]
  },
  {
   "cell_type": "code",
   "execution_count": 8,
   "id": "e737244d",
   "metadata": {},
   "outputs": [],
   "source": [
    "def get_motion_model():\n",
    "    # dx, dy\n",
    "    motion = [[1, 0],\n",
    "              [0, 1],\n",
    "              [-1, 0],\n",
    "              [0, -1],\n",
    "              [-1, -1],\n",
    "              [-1, 1],\n",
    "              [1, -1],\n",
    "              [1, 1]]\n",
    "\n",
    "    return motion"
   ]
  },
  {
   "cell_type": "code",
   "execution_count": 9,
   "id": "8f64ad0d",
   "metadata": {},
   "outputs": [],
   "source": [
    "def oscillations_detection(previous_ids, ix, iy):\n",
    "    previous_ids.append((ix, iy))\n",
    "\n",
    "    if (len(previous_ids) > OSCILLATIONS_DETECTION_LENGTH):\n",
    "        previous_ids.popleft()\n",
    "\n",
    "    # check if contains any duplicates by copying into a set\n",
    "    previous_ids_set = set()\n",
    "    for index in previous_ids:\n",
    "        if index in previous_ids_set:\n",
    "            return True\n",
    "        else:\n",
    "            previous_ids_set.add(index)\n",
    "    return False"
   ]
  },
  {
   "cell_type": "code",
   "execution_count": 10,
   "id": "0eb3494b",
   "metadata": {},
   "outputs": [],
   "source": [
    "def draw_heatmap(data):\n",
    "    data = np.array(data).T\n",
    "    plt.pcolor(data, vmax=100.0, cmap=plt.cm.Blues)"
   ]
  },
  {
   "cell_type": "code",
   "execution_count": 11,
   "id": "a82eb884",
   "metadata": {},
   "outputs": [],
   "source": [
    "def potential_field_planning(sx, sy, gx, gy, ox, oy, reso, rr):\n",
    "\n",
    "    # calc potential field\n",
    "    pmap, minx, miny = calc_potential_field(gx, gy, ox, oy, reso, rr, sx, sy)\n",
    "\n",
    "    # search path\n",
    "    d = np.hypot(sx - gx, sy - gy)\n",
    "    ix = round((sx - minx) / reso)\n",
    "    iy = round((sy - miny) / reso)\n",
    "    gix = round((gx - minx) / reso)\n",
    "    giy = round((gy - miny) / reso)\n",
    "\n",
    "    if show_animation:\n",
    "        draw_heatmap(pmap)\n",
    "        # for stopping simulation with the esc key.\n",
    "        plt.gcf().canvas.mpl_connect('key_release_event',\n",
    "                lambda event: [exit(0) if event.key == 'escape' else None])\n",
    "        plt.plot(ix, iy, \"*k\")\n",
    "        plt.plot(gix, giy, \"*m\")\n",
    "\n",
    "    rx, ry = [sx], [sy]\n",
    "    motion = get_motion_model()\n",
    "    previous_ids = deque()\n",
    "\n",
    "#     while d >= reso:\n",
    "#         minp = float(\"inf\")\n",
    "#         minix, miniy = -1, -1\n",
    "#         for i, _ in enumerate(motion):\n",
    "#             inx = int(ix + motion[i][0])\n",
    "#             iny = int(iy + motion[i][1])\n",
    "#             if inx >= len(pmap) or iny >= len(pmap[0]) or inx < 0 or iny < 0:\n",
    "#                 p = float(\"inf\")  # outside area\n",
    "#                 print(\"outside potential!\")\n",
    "#             else:\n",
    "#                 p = pmap[inx][iny]\n",
    "#             if minp > p:\n",
    "#                 minp = p\n",
    "#                 minix = inx\n",
    "#                 miniy = iny\n",
    "#         ix = minix\n",
    "#         iy = miniy\n",
    "#         xp = ix * reso + minx\n",
    "#         yp = iy * reso + miny\n",
    "#         d = np.hypot(gx - xp, gy - yp)\n",
    "#         rx.append(xp)\n",
    "#         ry.append(yp)\n",
    "\n",
    "#         if (oscillations_detection(previous_ids, ix, iy)):\n",
    "#             print(\"Oscillation detected at ({},{})!\".format(ix, iy))\n",
    "#             break\n",
    "\n",
    "        #if show_animation:\n",
    "        #    plt.plot(ix, iy, \".r\")\n",
    "        #    plt.pause(0.01)\n",
    "\n",
    "    print(\"Goal!!\")\n",
    "\n",
    "    return rx, ry"
   ]
  },
  {
   "cell_type": "code",
   "execution_count": 12,
   "id": "d8fd9c4c",
   "metadata": {},
   "outputs": [
    {
     "name": "stdout",
     "output_type": "stream",
     "text": [
      "Goal!!\n"
     ]
    },
    {
     "data": {
      "image/png": "[encoded data removed]",
      "text/plain": [
       "<Figure size 432x288 with 1 Axes>"
      ]
     },
     "metadata": {
      "needs_background": "light"
     },
     "output_type": "display_data"
    }
   ],
   "source": [
    "sx = 0.0  # start x position [m]\n",
    "sy = 10.0  # start y positon [m]\n",
    "gx = 30.0  # goal x position [m]\n",
    "gy = 30.0  # goal y position [m]\n",
    "grid_size = 0.5  # potential grid size [m]\n",
    "robot_radius = 5.0  # robot radius [m]\n",
    "\n",
    "ox = [15.0, 5.0]#, 20.0, 25.0]  # obstacle x position list [m]\n",
    "oy = [25.0, 15.0]#, 26.0, 25.0]  # obstacle y position list [m]\n",
    "\n",
    "if show_animation:\n",
    "    plt.grid(True)\n",
    "    plt.axis(\"equal\")\n",
    "\n",
    "# path generation\n",
    "_, _ = potential_field_planning(\n",
    "    sx, sy, gx, gy, ox, oy, grid_size, robot_radius)\n",
    "\n",
    "if show_animation:\n",
    "    plt.show()"
   ]
  },
  {
   "cell_type": "code",
   "execution_count": 13,
   "id": "d19ac6c6",
   "metadata": {},
   "outputs": [
    {
     "data": {
      "text/plain": [
       "<matplotlib.image.AxesImage at 0x7f3d9995ffa0>"
      ]
     },
     "execution_count": 13,
     "metadata": {},
     "output_type": "execute_result"
    },
    {
     "data": {
      "image/png": "[encoded data removed]",
      "text/plain": [
       "<Figure size 432x288 with 1 Axes>"
      ]
     },
     "metadata": {
      "needs_background": "light"
     },
     "output_type": "display_data"
    }
   ],
   "source": [
    "import cv2\n",
    "globalMap = cv2.imread( \"./upload_dir/b3898d0e-ea1c-434b-b9b5-f354cead4217.jpg\" )\n",
    "plt.imshow( globalMap )"
   ]
  },
  {
   "cell_type": "code",
   "execution_count": 14,
   "id": "65f43fc9",
   "metadata": {},
   "outputs": [
    {
     "data": {
      "text/plain": [
       "<matplotlib.image.AxesImage at 0x7f3d998e3460>"
      ]
     },
     "execution_count": 14,
     "metadata": {},
     "output_type": "execute_result"
    },
    {
     "data": {
      "image/png": "[encoded data removed]",
      "text/plain": [
       "<Figure size 432x288 with 1 Axes>"
      ]
     },
     "metadata": {
      "needs_background": "light"
     },
     "output_type": "display_data"
    }
   ],
   "source": [
    "gray = cv2.cvtColor( globalMap, cv2.COLOR_BGR2GRAY )\n",
    "plt.imshow( gray )"
   ]
  },
  {
   "cell_type": "code",
   "execution_count": 15,
   "id": "6ecd1550",
   "metadata": {},
   "outputs": [
    {
     "data": {
      "text/plain": [
       "<matplotlib.image.AxesImage at 0x7f3d998d5130>"
      ]
     },
     "execution_count": 15,
     "metadata": {},
     "output_type": "execute_result"
    },
    {
     "data": {
      "image/png": "[encoded data removed]",
      "text/plain": [
       "<Figure size 432x288 with 1 Axes>"
      ]
     },
     "metadata": {
      "needs_background": "light"
     },
     "output_type": "display_data"
    }
   ],
   "source": [
    "# detect circles\n",
    "gray_blured = cv2.blur( gray, (3, 3) )\n",
    "plt.imshow( gray_blured )"
   ]
  },
  {
   "cell_type": "code",
   "execution_count": 16,
   "id": "204d4d83",
   "metadata": {},
   "outputs": [],
   "source": [
    "\n",
    "\n",
    "obstacles = []\n",
    "index     = 0\n",
    "import numpy as np\n",
    "detected_circles = cv2.HoughCircles( gray_blured, cv2.HOUGH_GRADIENT, 1, 20, param1=50, param2=30, minRadius=1, maxRadius=40 )\n",
    "if detected_circles is not None:\n",
    "    detected_circles = np.uint16( np.around( detected_circles ) )\n",
    "    for pt in detected_circles[0, :]:\n",
    "        a, b, r = pt[0], pt[1], pt[2]\n",
    "        pos = (a, b)\n",
    "        \n",
    "        # border outline\n",
    "        cv2.circle( globalMap, center=(a, b), radius=r, color=( 0, 0, 0 ), thickness=1 )\n",
    "        obstacles.append( {\n",
    "            \"x\" : a,\n",
    "            \"y\" : b,\n",
    "            \"r\" : r\n",
    "        } )\n",
    "        \n",
    "        # create labels\n",
    "        cv2.putText(globalMap, text=str(index), org=(a,b),\n",
    "            fontFace= cv2.FONT_HERSHEY_SIMPLEX, fontScale=1, color=(0,0,0),\n",
    "            thickness=2, lineType=cv2.LINE_AA)\n",
    "        \n",
    "        index+=1\n",
    "\n"
   ]
  },
  {
   "cell_type": "markdown",
   "id": "c4a1c5fa",
   "metadata": {},
   "source": [
    "# Show Map"
   ]
  },
  {
   "cell_type": "code",
   "execution_count": 17,
   "id": "a103fc92",
   "metadata": {},
   "outputs": [
    {
     "data": {
      "text/plain": [
       "<matplotlib.image.AxesImage at 0x7f3d9983cf40>"
      ]
     },
     "execution_count": 17,
     "metadata": {},
     "output_type": "execute_result"
    },
    {
     "data": {
      "image/png": "[encoded data removed]",
      "text/plain": [
       "<Figure size 432x288 with 1 Axes>"
      ]
     },
     "metadata": {
      "needs_background": "light"
     },
     "output_type": "display_data"
    }
   ],
   "source": [
    "# show cirlces tracking\n",
    "plt.imshow( globalMap )"
   ]
  },
  {
   "cell_type": "code",
   "execution_count": 18,
   "id": "72dec2a5",
   "metadata": {},
   "outputs": [
    {
     "data": {
      "text/html": [
       "<div>\n",
       "<style scoped>\n",
       "    .dataframe tbody tr th:only-of-type {\n",
       "        vertical-align: middle;\n",
       "    }\n",
       "\n",
       "    .dataframe tbody tr th {\n",
       "        vertical-align: top;\n",
       "    }\n",
       "\n",
       "    .dataframe thead th {\n",
       "        text-align: right;\n",
       "    }\n",
       "</style>\n",
       "<table border=\"1\" class=\"dataframe\">\n",
       "  <thead>\n",
       "    <tr style=\"text-align: right;\">\n",
       "      <th></th>\n",
       "      <th>x</th>\n",
       "      <th>y</th>\n",
       "      <th>r</th>\n",
       "    </tr>\n",
       "  </thead>\n",
       "  <tbody>\n",
       "    <tr>\n",
       "      <th>0</th>\n",
       "      <td>742</td>\n",
       "      <td>182</td>\n",
       "      <td>31</td>\n",
       "    </tr>\n",
       "    <tr>\n",
       "      <th>1</th>\n",
       "      <td>1502</td>\n",
       "      <td>1002</td>\n",
       "      <td>31</td>\n",
       "    </tr>\n",
       "    <tr>\n",
       "      <th>2</th>\n",
       "      <td>550</td>\n",
       "      <td>700</td>\n",
       "      <td>31</td>\n",
       "    </tr>\n",
       "    <tr>\n",
       "      <th>3</th>\n",
       "      <td>1128</td>\n",
       "      <td>608</td>\n",
       "      <td>31</td>\n",
       "    </tr>\n",
       "    <tr>\n",
       "      <th>4</th>\n",
       "      <td>1326</td>\n",
       "      <td>506</td>\n",
       "      <td>31</td>\n",
       "    </tr>\n",
       "  </tbody>\n",
       "</table>\n",
       "</div>"
      ],
      "text/plain": [
       "      x     y   r\n",
       "0   742   182  31\n",
       "1  1502  1002  31\n",
       "2   550   700  31\n",
       "3  1128   608  31\n",
       "4  1326   506  31"
      ]
     },
     "execution_count": 18,
     "metadata": {},
     "output_type": "execute_result"
    }
   ],
   "source": [
    "import pandas as pd\n",
    "df = pd.DataFrame( obstacles )\n",
    "df.head(5)"
   ]
  },
  {
   "cell_type": "code",
   "execution_count": 19,
   "id": "d3c8fa59",
   "metadata": {},
   "outputs": [],
   "source": [
    "# get coordinate of a given index\n",
    "def get_coordinate( index ):\n",
    "    try:\n",
    "        return obstacles[ index ]\n",
    "    except IndexError:\n",
    "        return {}"
   ]
  },
  {
   "cell_type": "code",
   "execution_count": 20,
   "id": "fd52181b",
   "metadata": {},
   "outputs": [],
   "source": [
    "start_point = 0\n",
    "end_point   = 36\n",
    "\n",
    "start = get_coordinate(start_point)\n",
    "end   = get_coordinate(end_point)"
   ]
  },
  {
   "cell_type": "code",
   "execution_count": 21,
   "id": "13359563",
   "metadata": {},
   "outputs": [
    {
     "name": "stdout",
     "output_type": "stream",
     "text": [
      "{'x': 742, 'y': 182, 'r': 31} {'x': 1506, 'y': 804, 'r': 31}\n"
     ]
    }
   ],
   "source": [
    "print( start, end )"
   ]
  },
  {
   "cell_type": "code",
   "execution_count": 22,
   "id": "29237d26",
   "metadata": {},
   "outputs": [],
   "source": [
    "start_x = start['x']\n",
    "start_y = start['y']\n",
    "goal_x  = end['x']\n",
    "goal_y  = end['y']"
   ]
  },
  {
   "cell_type": "code",
   "execution_count": 23,
   "id": "21a99782",
   "metadata": {},
   "outputs": [],
   "source": [
    "ox = []\n",
    "oy = []\n",
    "\n",
    "count = 0\n",
    "for index, obj in enumerate(obstacles):\n",
    "    if count == 10:\n",
    "        break\n",
    "    if index != start_point and index != end_point:\n",
    "        ox.append( obj['x'] )\n",
    "        oy.append( obj['y'] )\n",
    "        count+=1"
   ]
  },
  {
   "cell_type": "code",
   "execution_count": 24,
   "id": "66af6abb",
   "metadata": {},
   "outputs": [
    {
     "name": "stdout",
     "output_type": "stream",
     "text": [
      "[1502, 550, 1128, 1326, 1326, 546, 1128, 744, 1500, 1130] [1002, 700, 608, 506, 108, 100, 210, 980, 204, 404]\n"
     ]
    }
   ],
   "source": [
    "print( ox, oy )"
   ]
  },
  {
   "cell_type": "code",
   "execution_count": 25,
   "id": "3370ff81",
   "metadata": {},
   "outputs": [
    {
     "name": "stderr",
     "output_type": "stream",
     "text": [
      "/tmp/ipykernel_75394/1151371171.py:7: RuntimeWarning: overflow encountered in ushort_scalars\n",
      "  d = np.hypot(sx - gx, sy - gy)\n"
     ]
    },
    {
     "name": "stdout",
     "output_type": "stream",
     "text": [
      "Goal!!\n"
     ]
    },
    {
     "data": {
      "image/png": "[encoded data removed]",
      "text/plain": [
       "<Figure size 432x288 with 1 Axes>"
      ]
     },
     "metadata": {
      "needs_background": "light"
     },
     "output_type": "display_data"
    }
   ],
   "source": [
    "if show_animation:\n",
    "    plt.grid(True)\n",
    "    plt.axis('equal')\n",
    "#path generation\n",
    "_, _ = potential_field_planning(\n",
    "    start_x, start_y, goal_x, goal_y, ox, oy, grid_size, robot_radius)\n",
    "if show_animation:\n",
    "    plt.show()"
   ]
  },
  {
   "cell_type": "code",
   "execution_count": null,
   "id": "c97c1943",
   "metadata": {},
   "outputs": [],
   "source": []
  }
 ],
 "metadata": {
  "interpreter": {
   "hash": "d6e737a63b1fd2a8e70a5e86bd952377bf133c6dd2848cc445f6d0d7a2182977"
  },
  "kernelspec": {
   "display_name": "Python 3.9 (navigator)",
   "language": "python",
   "name": "python3"
  },
  "language_info": {
   "codemirror_mode": {
    "name": "ipython",
    "version": 3
   },
   "file_extension": ".py",
   "mimetype": "text/x-python",
   "name": "python",
   "nbconvert_exporter": "python",
   "pygments_lexer": "ipython3",
   "version": "3.9.7"
  }
 },
 "nbformat": 4,
 "nbformat_minor": 5
}
